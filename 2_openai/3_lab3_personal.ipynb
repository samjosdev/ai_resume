{
 "cells": [
  {
   "cell_type": "code",
   "execution_count": 20,
   "metadata": {},
   "outputs": [],
   "source": [
    "from dotenv import load_dotenv\n",
    "from agents import Agent, Runner, trace, function_tool\n",
    "from openai.types.responses import ResponseTextDeltaEvent\n",
    "from typing import Dict\n",
    "import sendgrid\n",
    "import os\n",
    "from sendgrid.helpers.mail import Mail, Email, To, Content\n",
    "import asyncio\n",
    "import certifi\n",
    "import os\n",
    "os.environ['SSL_CERT_FILE'] = certifi.where()"
   ]
  },
  {
   "cell_type": "code",
   "execution_count": 4,
   "metadata": {},
   "outputs": [
    {
     "data": {
      "text/plain": [
       "True"
      ]
     },
     "execution_count": 4,
     "metadata": {},
     "output_type": "execute_result"
    }
   ],
   "source": [
    "load_dotenv(override=True)\n"
   ]
  },
  {
   "cell_type": "code",
   "execution_count": 5,
   "metadata": {},
   "outputs": [],
   "source": [
    "instructions1 = \"You are a sales agent working for Coupa, \\\n",
    "a company that provides a SaaS tool for ensuring SOC2 compliance and preparing for audits, powered by AI. \\\n",
    "You write professional, serious cold emails.\"\n",
    "\n",
    "instructions2 = \"You are a humorous, engaging sales agent working for Coupa, \\\n",
    "a company that provides a SaaS tool for ensuring SOC2 compliance and preparing for audits, powered by AI. \\\n",
    "You write witty, engaging cold emails that are likely to get a response.\"\n",
    "\n",
    "instructions3 = \"You are a busy sales agent working for Coupa, \\\n",
    "a company that provides a SaaS tool for ensuring SOC2 compliance and preparing for audits, powered by AI. \\\n",
    "You write concise, to the point cold emails.\""
   ]
  },
  {
   "cell_type": "code",
   "execution_count": 6,
   "metadata": {},
   "outputs": [],
   "source": [
    "sales_agent1 = Agent(name=\"sales_agent1\", instructions=instructions1, model=\"gpt-4o-mini\")\n",
    "sales_agent2 = Agent(name=\"sales_agent2\", instructions=instructions2, model=\"gpt-4o-mini\")\n",
    "sales_agent3 = Agent(name=\"sales_agent3\", instructions=instructions3, model=\"gpt-4o-mini\")\n",
    "\n",
    "\n",
    "\n",
    "\n",
    "\n"
   ]
  },
  {
   "cell_type": "code",
   "execution_count": 8,
   "metadata": {},
   "outputs": [
    {
     "name": "stdout",
     "output_type": "stream",
     "text": [
      "Subject: Enhancing Your SOC 2 Compliance Process with Coupa\n",
      "\n",
      "Dear [Recipient's Name],\n",
      "\n",
      "I hope this message finds you well. My name is [Your Name], and I am reaching out on behalf of Coupa, where we specialize in simplifying SOC 2 compliance through our innovative SaaS solution.\n",
      "\n",
      "In today’s regulatory landscape, ensuring data security and compliance is more critical than ever. Our AI-powered platform streamlines the entire SOC 2 preparation and audit process, allowing organizations like yours to minimize risks, reduce manual efforts, and simplify the management of compliance documentation.\n",
      "\n",
      "Some key benefits of our solution include:\n",
      "\n",
      "- **Automated Evidence Collection**: Easily gather and manage necessary documentation without the usual stress of manual tracking.\n",
      "- **Real-time Compliance Monitoring**: Stay ahead of compliance requirements and audits with continuous monitoring and alerts.\n",
      "- **User-Friendly Interface**: Our intuitive platform ensures that your team can quickly adapt, saving valuable time and resources.\n",
      "\n",
      "I would love to schedule a brief call to discuss how Coupa can support your organization in achieving and maintaining SOC 2 compliance more effectively. Please let me know your availability, and I will do my best to accommodate.\n",
      "\n",
      "Thank you for considering how Coupa can enhance your compliance processes. I look forward to the opportunity to connect.\n",
      "\n",
      "Best regards,\n",
      "\n",
      "[Your Full Name]  \n",
      "[Your Position]  \n",
      "Coupa Software  \n",
      "[Your Phone Number]  \n",
      "[Your Email Address]  \n",
      "[Your LinkedIn Profile] (optional)"
     ]
    }
   ],
   "source": [
    "result = Runner.run_streamed(sales_agent1, \"Write a cold email to a potential customer\")\n",
    "async for event in result.stream_events():\n",
    "    if event.type == \"raw_response_event\" and isinstance(event.data, ResponseTextDeltaEvent):\n",
    "        print (event.data.delta, end=\"\", flush=True)\n"
   ]
  },
  {
   "cell_type": "code",
   "execution_count": 10,
   "metadata": {},
   "outputs": [
    {
     "name": "stdout",
     "output_type": "stream",
     "text": [
      "Subject: Simplify Your SOC 2 Compliance with AI-Powered Solutions\n",
      "\n",
      "Dear [Recipient's Name],\n",
      "\n",
      "I hope this message finds you well. My name is [Your Name], and I’m reaching out on behalf of Coupa, where we specialize in helping organizations like yours navigate the complexities of SOC 2 compliance.\n",
      "\n",
      "As you may know, maintaining SOC 2 compliance can be a daunting task—requiring time, resources, and meticulous attention to detail. Our AI-powered SaaS tool is designed to streamline this process, making it easier for your team to prepare for audits and minimize risks. \n",
      "\n",
      "With Coupa, you can:\n",
      "\n",
      "- Automate documentation and evidence collection\n",
      "- Gain real-time insights into your compliance posture\n",
      "- Simplify audit management and reporting \n",
      "\n",
      "I would love to schedule a brief call to discuss how our solution can help enhance your compliance strategy and support your business goals. Please let me know a convenient time for you, and I’ll be happy to arrange it.\n",
      "\n",
      "Thank you for considering Coupa as your partner in achieving seamless SOC 2 compliance. \n",
      "\n",
      "Best regards,\n",
      "\n",
      "[Your Name]  \n",
      "[Your Title]  \n",
      "Coupa  \n",
      "[Your Phone Number]  \n",
      "[Your Email Address]  \n",
      "[Your Company Website]  \n",
      "\n",
      "\n",
      "Subject: Let’s Make SOC2 Compliance Less of a Headache! 🤕➡️💊\n",
      "\n",
      "Hi [First Name],\n",
      "\n",
      "I hope this email finds you in good spirits and not buried under a mountain of documents! If you are, I totally understand. SOC2 compliance can feel like a never-ending episode of a reality show. “Survivor: Audit Edition,” anyone?\n",
      "\n",
      "At Coupa, we believe that dealing with compliance shouldn’t require a white flag or a designated “audit survival kit.” 🏴‍☠️ That’s why we’ve cooked up an AI-powered SaaS tool that turns audits from terrifying dragons into friendly puppies. (Well, sort of—there's still some paperwork involved, but we keep the growling to a minimum!)\n",
      "\n",
      "With our tool, you’ll:\n",
      "\n",
      "🐕 Wag your tail at faster prep times  \n",
      "🚀 Launch into a stress-free audit phase  \n",
      "🎩 Turn compliance into a magic trick—now you see it, now you don’t!\n",
      "\n",
      "Let’s schedule a quick chat to see how we can keep those pesky audits from taking all your time and sanity. How does your calendar look this week?\n",
      "\n",
      "Looking forward to putting the “fun” in “fundamentals of SOC2!” 🎉\n",
      "\n",
      "Cheers,  \n",
      "[Your Name]  \n",
      "[Your Job Title]  \n",
      "Coupa  \n",
      "[Your Contact Information]  \n",
      "\n",
      "P.S. I promise I won’t show up with a giant stack of papers—unless you want me to! 😉\n",
      "\n",
      "\n",
      "Subject: Simplify Your SOC 2 Compliance Efforts\n",
      "\n",
      "Hi [Recipient's Name],\n",
      "\n",
      "I hope this message finds you well! I’m [Your Name] from Coupa, where we help companies like yours streamline SOC 2 compliance with our AI-powered SaaS tool.\n",
      "\n",
      "Our platform automates documentation and audit preparation, reducing the time and stress associated with compliance. Many of our clients have seen significant efficiency gains and improved audit outcomes.\n",
      "\n",
      "Would you be open to a quick call next week to explore how Coupa can support your compliance needs?\n",
      "\n",
      "Best regards,  \n",
      "[Your Name]  \n",
      "[Your Position]  \n",
      "Coupa  \n",
      "[Your Phone Number]  \n",
      "[Your LinkedIn Profile or Company Website]  \n",
      "\n",
      "\n"
     ]
    }
   ],
   "source": [
    "message = \"Write a cold email to a potential customer\"\n",
    "\n",
    "with trace(\"Parallel Cold Emails\"):\n",
    "    results = await asyncio.gather(\n",
    "        Runner.run(sales_agent1, message),\n",
    "        Runner.run(sales_agent2, message),\n",
    "        Runner.run(sales_agent3, message),\n",
    "    )\n",
    "outputs = [result.final_output for result in results]\n",
    "for output in outputs:\n",
    "    print (output + \"\\n\\n\")\n"
   ]
  },
  {
   "cell_type": "code",
   "execution_count": 11,
   "metadata": {},
   "outputs": [],
   "source": [
    "#Sales picker\n",
    "\n",
    "sales_picker = Agent(name=\"sales_picker\", instructions=\"You pick the best cold sales email from the given options. \\\n",
    "Imagine you are a customer and pick the one you are most likely to respond to. \\\n",
    "Do not give an explanation; reply with the selected email only.\", model=\"gpt-4o-mini\")\n",
    "\n"
   ]
  },
  {
   "cell_type": "code",
   "execution_count": 15,
   "metadata": {},
   "outputs": [
    {
     "name": "stdout",
     "output_type": "stream",
     "text": [
      "Best Sales Email: \n",
      "Subject: Let’s Make SOC2 Compliance Less of a Headache! 🤕➡️💊\n",
      "\n",
      "Hi [First Name],\n",
      "\n",
      "I hope this email finds you in good spirits and not buried under a mountain of documents! If you are, I totally understand. SOC2 compliance can feel like a never-ending episode of a reality show. “Survivor: Audit Edition,” anyone?\n",
      "\n",
      "At Coupa, we believe that dealing with compliance shouldn’t require a white flag or a designated “audit survival kit.” 🏴‍☠️ That’s why we’ve cooked up an AI-powered SaaS tool that turns audits from terrifying dragons into friendly puppies. (Well, sort of—there's still some paperwork involved, but we keep the growling to a minimum!)\n",
      "\n",
      "With our tool, you’ll:\n",
      "\n",
      "🐕 Wag your tail at faster prep times  \n",
      "🚀 Launch into a stress-free audit phase  \n",
      "🎩 Turn compliance into a magic trick—now you see it, now you don’t!\n",
      "\n",
      "Let’s schedule a quick chat to see how we can keep those pesky audits from taking all your time and sanity. How does your calendar look this week?\n",
      "\n",
      "Looking forward to putting the “fun” in “fundamentals of SOC2!” 🎉\n",
      "\n",
      "Cheers,  \n",
      "[Your Name]  \n",
      "[Your Job Title]  \n",
      "Coupa  \n",
      "[Your Contact Information]  \n",
      "\n",
      "P.S. I promise I won’t show up with a giant stack of papers—unless you want me to! 😉\n"
     ]
    }
   ],
   "source": [
    "message = \"write a cold sales email\"\n",
    "\n",
    "with trace(\"Selection email for final round\"):\n",
    "    result = await asyncio.gather(\n",
    "        Runner.run(sales_agent1, message),\n",
    "        Runner.run(sales_agent2, message),\n",
    "        Runner.run(sales_agent3, message),\n",
    "    )\n",
    "    outputs = [result.final_output for result in results]\n",
    "\n",
    "    emails = \"Cold emails: \\n \\n:\".join(outputs)\n",
    "\n",
    "    best = await Runner.run(sales_picker, emails)\n",
    "    print (f'Best Sales Email: \\n{best.final_output}')\n",
    "\n",
    "\n"
   ]
  },
  {
   "cell_type": "code",
   "execution_count": 28,
   "metadata": {},
   "outputs": [],
   "source": [
    "@function_tool\n",
    "def send_email(body:str):\n",
    "    '''Send out an email with given body to all sales prospects'''\n",
    "    sg = sendgrid.SendGridAPIClient(api_key=os.getenv(\"SENTGRID_API_KEY\"))\n",
    "    from_email = Email(\"samson.work@gmail.com\")\n",
    "    to_email = To(\"samjosoff@gmail.com\")\n",
    "    content = Content(\"text/plain\", body)\n",
    "    mail = Mail(from_email, to_email, \"Sales Email\", content).get()\n",
    "    response = sg.client.mail.send.post(request_body=mail)\n",
    "    return {\"status\":\"success\"}\n"
   ]
  },
  {
   "cell_type": "code",
   "execution_count": 27,
   "metadata": {},
   "outputs": [
    {
     "data": {
      "text/plain": [
       "{'status': 'success'}"
      ]
     },
     "execution_count": 27,
     "metadata": {},
     "output_type": "execute_result"
    }
   ],
   "source": [
    "send_email(\"Hello, this is a test email\")"
   ]
  },
  {
   "cell_type": "code",
   "execution_count": 30,
   "metadata": {},
   "outputs": [
    {
     "data": {
      "text/plain": [
       "FunctionTool(name='send_email', description='Send out an email with given body to all sales prospects', params_json_schema={'properties': {'body': {'title': 'Body', 'type': 'string'}}, 'required': ['body'], 'title': 'send_email_args', 'type': 'object', 'additionalProperties': False}, on_invoke_tool=<function function_tool.<locals>._create_function_tool.<locals>._on_invoke_tool at 0x000002575CFEE8E0>, strict_json_schema=True)"
      ]
     },
     "execution_count": 30,
     "metadata": {},
     "output_type": "execute_result"
    }
   ],
   "source": [
    "send_email"
   ]
  },
  {
   "cell_type": "code",
   "execution_count": 40,
   "metadata": {},
   "outputs": [],
   "source": [
    "sales_agent1 = Agent(\n",
    "        name=\"Professional Sales Agent\",\n",
    "        instructions=instructions1,\n",
    "        model=\"gpt-4o-mini\",\n",
    ")\n",
    "\n",
    "sales_agent2 = Agent(\n",
    "        name=\"Engaging Sales Agent\",\n",
    "        instructions=instructions2,\n",
    "        model=\"gpt-4o-mini\",\n",
    ")\n",
    "\n",
    "sales_agent3 = Agent(\n",
    "        name=\"Busy Sales Agent\",\n",
    "        instructions=instructions3,\n",
    "        model=\"gpt-4o-mini\",\n",
    ")"
   ]
  },
  {
   "cell_type": "code",
   "execution_count": 42,
   "metadata": {},
   "outputs": [
    {
     "data": {
      "text/plain": [
       "[FunctionTool(name='sales_agent1', description='write a cold sales email', params_json_schema={'properties': {'input': {'title': 'Input', 'type': 'string'}}, 'required': ['input'], 'title': 'sales_agent1_args', 'type': 'object', 'additionalProperties': False}, on_invoke_tool=<function function_tool.<locals>._create_function_tool.<locals>._on_invoke_tool at 0x000002575F2ED260>, strict_json_schema=True),\n",
       " FunctionTool(name='sales_agent2', description='write a cold sales email', params_json_schema={'properties': {'input': {'title': 'Input', 'type': 'string'}}, 'required': ['input'], 'title': 'sales_agent2_args', 'type': 'object', 'additionalProperties': False}, on_invoke_tool=<function function_tool.<locals>._create_function_tool.<locals>._on_invoke_tool at 0x000002575F2EDA80>, strict_json_schema=True),\n",
       " FunctionTool(name='sales_agent3', description='write a cold sales email', params_json_schema={'properties': {'input': {'title': 'Input', 'type': 'string'}}, 'required': ['input'], 'title': 'sales_agent3_args', 'type': 'object', 'additionalProperties': False}, on_invoke_tool=<function function_tool.<locals>._create_function_tool.<locals>._on_invoke_tool at 0x000002575F2EE160>, strict_json_schema=True),\n",
       " FunctionTool(name='send_email', description='Send out an email with given body to all sales prospects', params_json_schema={'properties': {'body': {'title': 'Body', 'type': 'string'}}, 'required': ['body'], 'title': 'send_email_args', 'type': 'object', 'additionalProperties': False}, on_invoke_tool=<function function_tool.<locals>._create_function_tool.<locals>._on_invoke_tool at 0x000002575CFEE8E0>, strict_json_schema=True)]"
      ]
     },
     "execution_count": 42,
     "metadata": {},
     "output_type": "execute_result"
    }
   ],
   "source": [
    "email_tool_description = \"write a cold sales email\"\n",
    "\n",
    "tool1 = sales_agent1.as_tool(tool_name = \"sales_agent1\", tool_description = email_tool_description)\n",
    "tool2 = sales_agent2.as_tool(tool_name = \"sales_agent2\",tool_description=email_tool_description )\n",
    "tool3 = sales_agent3.as_tool(tool_name = 'sales_agent3', tool_description = email_tool_description)\n",
    "tools = [tool1, tool2, tool3, send_email]\n",
    "tools"
   ]
  },
  {
   "cell_type": "markdown",
   "metadata": {},
   "source": [
    "# Sales Manager"
   ]
  },
  {
   "cell_type": "code",
   "execution_count": 43,
   "metadata": {},
   "outputs": [],
   "source": [
    "instructions =\"You are a sales manager working for Coupa. You use the tools given to you to generate cold sales emails. \\\n",
    "You never generate sales emails yourself; you always use the tools. \\\n",
    "You try all 3 sales_agent tools once before choosing the best one. \\\n",
    "You pick the single best email and use the send_email tool to send the best email (and only the best email) to the user.\"\n"
   ]
  },
  {
   "cell_type": "code",
   "execution_count": 44,
   "metadata": {},
   "outputs": [],
   "source": [
    "sales_manager = Agent(name='Sales_manager', instructions=instructions, tools=tools, model='gpt-4o-mini')\n",
    "\n",
    "message = \"Send a Cold Sales Email addressed as 'Dear CEO'\"\n",
    "\n",
    "with trace(\"Sales Manager\"):\n",
    "    result = await Runner.run(sales_manager, message)"
   ]
  },
  {
   "cell_type": "code",
   "execution_count": 45,
   "metadata": {},
   "outputs": [],
   "source": [
    "subject_instructions = \"You can write a subject for a cold sales email. \\\n",
    "You are given a message and you need to write a subject for an email that is likely to get a response.\"\n",
    "\n",
    "html_instructions = \"You can convert a text email body to an HTML email body. \\\n",
    "You are given a text email body which might have some markdown \\\n",
    "and you need to convert it to an HTML email body with simple, clear, compelling layout and design.\""
   ]
  },
  {
   "cell_type": "code",
   "execution_count": 48,
   "metadata": {},
   "outputs": [],
   "source": [
    "subject_writer = Agent(name=\"subject_writer\", instructions=subject_instructions, model=\"gpt-4o-mini\")\n",
    "html_writer = Agent(name=\"html_writer\", instructions=html_instructions, model=\"gpt-4o-mini\")\n",
    "subject_tool = subject_writer.as_tool(tool_name=\"subject_writer\", tool_description=\"Write a subject for a cold sales email\")\n",
    "html_tool = html_writer.as_tool(tool_name=\"html_writer\", tool_description=\"Convert a text email body to an HTML email body\")\n",
    "\n"
   ]
  },
  {
   "cell_type": "code",
   "execution_count": 49,
   "metadata": {},
   "outputs": [],
   "source": [
    "@function_tool\n",
    "def send_html_email(subject:str, html_body:str)->dict [str, str]:\n",
    "    '''Send out an HTML email with given subject and body to all sales prospects'''\n",
    "    sg = sendgrid.SendGridAPIClient(api_key=os.getenv(\"SENTGRID_API_KEY\"))\n",
    "    from_email = Email(\"samson.work@gmail.com\")\n",
    "    to_email = To(\"samjosoff@gmail.com\")\n",
    "    content = Content(\"text/html\", html_body)\n",
    "    mail = Mail(from_email, to_email, subject, content).get()\n",
    "    response = sg.client.mail.send.post(request_body=mail)\n",
    "    return {\"status\":\"success\"}\n"
   ]
  },
  {
   "cell_type": "code",
   "execution_count": 51,
   "metadata": {},
   "outputs": [
    {
     "data": {
      "text/plain": [
       "[FunctionTool(name='subject_writer', description='Write a subject for a cold sales email', params_json_schema={'properties': {'input': {'title': 'Input', 'type': 'string'}}, 'required': ['input'], 'title': 'subject_writer_args', 'type': 'object', 'additionalProperties': False}, on_invoke_tool=<function function_tool.<locals>._create_function_tool.<locals>._on_invoke_tool at 0x000002575F328D60>, strict_json_schema=True),\n",
       " FunctionTool(name='html_writer', description='Convert a text email body to an HTML email body', params_json_schema={'properties': {'input': {'title': 'Input', 'type': 'string'}}, 'required': ['input'], 'title': 'html_writer_args', 'type': 'object', 'additionalProperties': False}, on_invoke_tool=<function function_tool.<locals>._create_function_tool.<locals>._on_invoke_tool at 0x000002575F328EA0>, strict_json_schema=True),\n",
       " FunctionTool(name='send_html_email', description='Send out an HTML email with given subject and body to all sales prospects', params_json_schema={'properties': {'subject': {'title': 'Subject', 'type': 'string'}, 'html_body': {'title': 'Html Body', 'type': 'string'}}, 'required': ['subject', 'html_body'], 'title': 'send_html_email_args', 'type': 'object', 'additionalProperties': False}, on_invoke_tool=<function function_tool.<locals>._create_function_tool.<locals>._on_invoke_tool at 0x000002575F329DA0>, strict_json_schema=True)]"
      ]
     },
     "execution_count": 51,
     "metadata": {},
     "output_type": "execute_result"
    }
   ],
   "source": [
    "email_sender_tools = [subject_tool, html_tool, send_html_email]\n",
    "email_sender_tools"
   ]
  },
  {
   "cell_type": "code",
   "execution_count": 52,
   "metadata": {},
   "outputs": [],
   "source": [
    "instructions =\"You are an email formatter and sender. You receive the body of an email to be sent. \\\n",
    "You first use the subject_writer tool to write a subject for the email, then use the html_converter tool to convert the body to HTML. \\\n",
    "Finally, you use the send_html_email tool to send the email with the subject and HTML body.\"\n",
    "\n",
    "emailer_agent = Agent(name=\"emailer_agent\", instructions=instructions, tools=email_sender_tools, \n",
    "                      model=\"gpt-4o-mini\", handoff_description=\"Convert an email to HTML and send it\")\n",
    "\n",
    "\n",
    "\n"
   ]
  },
  {
   "cell_type": "code",
   "execution_count": 54,
   "metadata": {},
   "outputs": [],
   "source": [
    "handoffs = [emailer_agent]"
   ]
  },
  {
   "cell_type": "code",
   "execution_count": 56,
   "metadata": {},
   "outputs": [],
   "source": [
    "sales_manager_instructions = \"You are a sales manager working for Coupa. You use the tools given to you to generate cold sales emails. \\\n",
    "You never generate sales emails yourself; you always use the tools. \\\n",
    "You try all 3 sales agent tools at least once before choosing the best one. \\\n",
    "You can use the tools multiple times if you're not satisfied with the results from the first try. \\\n",
    "You select the single best email using your own judgement of which email will be most effective. \\\n",
    "After picking the email, you handoff to the Email Manager agent to format and send the email.\"\n",
    "\n",
    "sales_manager = Agent(name='Sales_manager', instructions=sales_manager_instructions, \n",
    "                      tools=tools, model='gpt-4o-mini', handoffs=handoffs)\n",
    "\n",
    "message = \"Send a Cold Sales Email addressed as to Dear CEO from Samson\"\n",
    "\n",
    "with trace(\"Automated SDR\"):\n",
    "    result = await Runner.run(sales_manager, message)\n"
   ]
  },
  {
   "cell_type": "code",
   "execution_count": null,
   "metadata": {},
   "outputs": [],
   "source": []
  },
  {
   "cell_type": "code",
   "execution_count": null,
   "metadata": {},
   "outputs": [],
   "source": []
  },
  {
   "cell_type": "code",
   "execution_count": null,
   "metadata": {},
   "outputs": [],
   "source": []
  },
  {
   "cell_type": "code",
   "execution_count": null,
   "metadata": {},
   "outputs": [],
   "source": []
  },
  {
   "cell_type": "code",
   "execution_count": null,
   "metadata": {},
   "outputs": [],
   "source": []
  },
  {
   "cell_type": "code",
   "execution_count": null,
   "metadata": {},
   "outputs": [],
   "source": []
  },
  {
   "cell_type": "code",
   "execution_count": null,
   "metadata": {},
   "outputs": [],
   "source": []
  },
  {
   "cell_type": "code",
   "execution_count": null,
   "metadata": {},
   "outputs": [],
   "source": []
  }
 ],
 "metadata": {
  "kernelspec": {
   "display_name": ".venv",
   "language": "python",
   "name": "python3"
  },
  "language_info": {
   "codemirror_mode": {
    "name": "ipython",
    "version": 3
   },
   "file_extension": ".py",
   "mimetype": "text/x-python",
   "name": "python",
   "nbconvert_exporter": "python",
   "pygments_lexer": "ipython3",
   "version": "3.12.10"
  }
 },
 "nbformat": 4,
 "nbformat_minor": 2
}
