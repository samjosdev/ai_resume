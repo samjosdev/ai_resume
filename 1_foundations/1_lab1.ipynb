{
 "cells": [
  {
   "cell_type": "markdown",
   "metadata": {},
   "source": [
    "# Welcome to the start of your adventure in Agentic AI"
   ]
  },
  {
   "cell_type": "markdown",
   "metadata": {},
   "source": [
    "<table style=\"margin: 0; text-align: left; width:100%\">\n",
    "    <tr>\n",
    "        <td style=\"width: 150px; height: 150px; vertical-align: middle;\">\n",
    "            <img src=\"../assets/stop.png\" width=\"150\" height=\"150\" style=\"display: block;\" />\n",
    "        </td>\n",
    "        <td>\n",
    "            <h2 style=\"color:#ff7800;\">Are you ready for action??</h2>\n",
    "            <span style=\"color:#ff7800;\">Have you completed all the setup steps in the <a href=\"../setup/\">setup</a> folder?<br/>\n",
    "            Have you checked out the guides in the <a href=\"../guides/01_intro.ipynb\">guides</a> folder?<br/>\n",
    "            Well in that case, you're ready!!\n",
    "            </span>\n",
    "        </td>\n",
    "    </tr>\n",
    "</table>"
   ]
  },
  {
   "cell_type": "markdown",
   "metadata": {},
   "source": [
    "<table style=\"margin: 0; text-align: left; width:100%\">\n",
    "    <tr>\n",
    "        <td style=\"width: 150px; height: 150px; vertical-align: middle;\">\n",
    "            <img src=\"../assets/tools.png\" width=\"150\" height=\"150\" style=\"display: block;\" />\n",
    "        </td>\n",
    "        <td>\n",
    "            <h2 style=\"color:#00bfff;\">This code is a live resource - keep an eye out for my updates</h2>\n",
    "            <span style=\"color:#00bfff;\">I push updates regularly. As people ask questions or have problems, I add more examples and improve explanations. As a result, the code below might not be identical to the videos, as I've added more steps and better comments. Consider this like an interactive book that accompanies the lectures.<br/><br/>\n",
    "            I try to send emails regularly with important updates related to the course. You can find this in the 'Announcements' section of Udemy in the left sidebar. You can also choose to receive my emails via your Notification Settings in Udemy. I'm respectful of your inbox and always try to add value with my emails!\n",
    "            </span>\n",
    "        </td>\n",
    "    </tr>\n",
    "</table>"
   ]
  },
  {
   "cell_type": "markdown",
   "metadata": {},
   "source": [
    "### And please do remember to contact me if I can help\n",
    "\n",
    "And I love to connect: https://www.linkedin.com/in/eddonner/\n",
    "\n",
    "\n",
    "### New to Notebooks like this one? Head over to the guides folder!\n",
    "\n",
    "Just to check you've already added the Python and Jupyter extensions to Cursor, if not already installed:\n",
    "- Open extensions (View >> extensions)\n",
    "- Search for python, and when the results show, click on the ms-python one, and Install it if not already installed\n",
    "- Search for jupyter, and when the results show, click on the Microsoft one, and Install it if not already installed  \n",
    "Then View >> Explorer to bring back the File Explorer.\n",
    "\n",
    "And then:\n",
    "1. Click where it says \"Select Kernel\" near the top right, and select the option called `.venv (Python 3.12.9)` or similar, which should be the first choice or the most prominent choice. You may need to choose \"Python Environments\" first.\n",
    "2. Click in each \"cell\" below, starting with the cell immediately below this text, and press Shift+Enter to run\n",
    "3. Enjoy!\n",
    "\n",
    "After you click \"Select Kernel\", if there is no option like `.venv (Python 3.12.9)` then please do the following:  \n",
    "1. On Mac: From the Cursor menu, choose Settings >> VS Code Settings (NOTE: be sure to select `VSCode Settings` not `Cursor Settings`);  \n",
    "On Windows PC: From the File menu, choose Preferences >> VS Code Settings(NOTE: be sure to select `VSCode Settings` not `Cursor Settings`)  \n",
    "2. In the Settings search bar, type \"venv\"  \n",
    "3. In the field \"Path to folder with a list of Virtual Environments\" put the path to the project root, like C:\\Users\\username\\projects\\agents (on a Windows PC) or /Users/username/projects/agents (on Mac or Linux).  \n",
    "And then try again.\n",
    "\n",
    "Having problems with missing Python versions in that list? Have you ever used Anaconda before? It might be interferring. Quit Cursor, bring up a new command line, and make sure that your Anaconda environment is deactivated:    \n",
    "`conda deactivate`  \n",
    "And if you still have any problems with conda and python versions, it's possible that you will need to run this too:  \n",
    "`conda config --set auto_activate_base false`  \n",
    "and then from within the Agents directory, you should be able to run `uv python list` and see the Python 3.12 version."
   ]
  },
  {
   "cell_type": "code",
   "execution_count": 1,
   "metadata": {},
   "outputs": [],
   "source": [
    "# First let's do an import\n",
    "from dotenv import load_dotenv\n"
   ]
  },
  {
   "cell_type": "code",
   "execution_count": 2,
   "metadata": {},
   "outputs": [
    {
     "data": {
      "text/plain": [
       "True"
      ]
     },
     "execution_count": 2,
     "metadata": {},
     "output_type": "execute_result"
    }
   ],
   "source": [
    "# Next it's time to load the API keys into environment variables\n",
    "\n",
    "load_dotenv(override=True)"
   ]
  },
  {
   "cell_type": "code",
   "execution_count": 3,
   "metadata": {},
   "outputs": [
    {
     "name": "stdout",
     "output_type": "stream",
     "text": [
      "OpenAI API Key exists and begins sk-svcac\n"
     ]
    }
   ],
   "source": [
    "# Check the keys\n",
    "\n",
    "import os\n",
    "openai_api_key = os.getenv('OPENAI_API_KEY')\n",
    "\n",
    "if openai_api_key:\n",
    "    print(f\"OpenAI API Key exists and begins {openai_api_key[:8]}\")\n",
    "else:\n",
    "    print(\"OpenAI API Key not set - please head to the troubleshooting guide in the setup folder\")\n",
    "    \n"
   ]
  },
  {
   "cell_type": "code",
   "execution_count": 4,
   "metadata": {},
   "outputs": [],
   "source": [
    "# And now - the all important import statement\n",
    "# If you get an import error - head over to troubleshooting guide\n",
    "\n",
    "from openai import OpenAI"
   ]
  },
  {
   "cell_type": "code",
   "execution_count": 5,
   "metadata": {},
   "outputs": [],
   "source": [
    "# And now we'll create an instance of the OpenAI class\n",
    "# If you're not sure what it means to create an instance of a class - head over to the guides folder!\n",
    "# If you get a NameError - head over to the guides folder to learn about NameErrors\n",
    "\n",
    "openai = OpenAI()"
   ]
  },
  {
   "cell_type": "code",
   "execution_count": 6,
   "metadata": {},
   "outputs": [],
   "source": [
    "# Create a list of messages in the familiar OpenAI format\n",
    "\n",
    "messages = [{\"role\": \"user\", \"content\": \"What is 2+2?\"}]"
   ]
  },
  {
   "cell_type": "code",
   "execution_count": 7,
   "metadata": {},
   "outputs": [
    {
     "name": "stdout",
     "output_type": "stream",
     "text": [
      "2 + 2 equals 4.\n"
     ]
    }
   ],
   "source": [
    "# And now call it! Any problems, head to the troubleshooting guide\n",
    "# This uses GPT 4.1 nano, the incredibly cheap model\n",
    "\n",
    "response = openai.chat.completions.create(\n",
    "    model=\"gpt-4.1-nano\",\n",
    "    messages=messages\n",
    ")\n",
    "\n",
    "print(response.choices[0].message.content)\n"
   ]
  },
  {
   "cell_type": "code",
   "execution_count": 8,
   "metadata": {},
   "outputs": [],
   "source": [
    "# And now - let's ask for a question:\n",
    "\n",
    "question = \"Please propose a hard, challenging question to assess someone's IQ. Respond only with the question.\"\n",
    "messages = [{\"role\": \"user\", \"content\": question}]\n"
   ]
  },
  {
   "cell_type": "code",
   "execution_count": 9,
   "metadata": {},
   "outputs": [
    {
     "name": "stdout",
     "output_type": "stream",
     "text": [
      "If it takes 5 machines 5 minutes to make 5 widgets, how long would it take 100 machines to make 100 widgets?\n"
     ]
    }
   ],
   "source": [
    "# ask it - this uses GPT 4.1 mini, still cheap but more powerful than nano\n",
    "\n",
    "response = openai.chat.completions.create(\n",
    "    model=\"gpt-4.1-mini\",\n",
    "    messages=messages\n",
    ")\n",
    "\n",
    "question = response.choices[0].message.content\n",
    "\n",
    "print(question)\n"
   ]
  },
  {
   "cell_type": "code",
   "execution_count": 11,
   "metadata": {},
   "outputs": [],
   "source": [
    "# form a new messages list\n",
    "messages = [{\"role\": \"user\", \"content\": question}]\n"
   ]
  },
  {
   "cell_type": "code",
   "execution_count": 12,
   "metadata": {},
   "outputs": [
    {
     "name": "stdout",
     "output_type": "stream",
     "text": [
      "Let's analyze the problem step-by-step:\n",
      "\n",
      "- 5 machines take 5 minutes to make 5 widgets.\n",
      "- This means each machine takes 5 minutes to make 1 widget (since 5 machines collectively make 5 widgets in 5 minutes, each machine produces 1 widget in 5 minutes).\n",
      "\n",
      "Now, if we have 100 machines:\n",
      "\n",
      "- Each machine makes 1 widget in 5 minutes.\n",
      "- To make 100 widgets, with 100 machines working simultaneously, it would still take 5 minutes, because each machine makes 1 widget in 5 minutes.\n",
      "\n",
      "**Answer:** It would take **5 minutes** for 100 machines to make 100 widgets.\n"
     ]
    }
   ],
   "source": [
    "# Ask it again\n",
    "\n",
    "response = openai.chat.completions.create(\n",
    "    model=\"gpt-4.1-mini\",\n",
    "    messages=messages\n",
    ")\n",
    "\n",
    "answer = response.choices[0].message.content\n",
    "print(answer)\n"
   ]
  },
  {
   "cell_type": "code",
   "execution_count": 13,
   "metadata": {},
   "outputs": [
    {
     "data": {
      "text/markdown": [
       "Let's analyze the problem step-by-step:\n",
       "\n",
       "- 5 machines take 5 minutes to make 5 widgets.\n",
       "- This means each machine takes 5 minutes to make 1 widget (since 5 machines collectively make 5 widgets in 5 minutes, each machine produces 1 widget in 5 minutes).\n",
       "\n",
       "Now, if we have 100 machines:\n",
       "\n",
       "- Each machine makes 1 widget in 5 minutes.\n",
       "- To make 100 widgets, with 100 machines working simultaneously, it would still take 5 minutes, because each machine makes 1 widget in 5 minutes.\n",
       "\n",
       "**Answer:** It would take **5 minutes** for 100 machines to make 100 widgets."
      ],
      "text/plain": [
       "<IPython.core.display.Markdown object>"
      ]
     },
     "metadata": {},
     "output_type": "display_data"
    }
   ],
   "source": [
    "from IPython.display import Markdown, display\n",
    "\n",
    "display(Markdown(answer))\n",
    "\n"
   ]
  },
  {
   "cell_type": "markdown",
   "metadata": {},
   "source": [
    "# Congratulations!\n",
    "\n",
    "That was a small, simple step in the direction of Agentic AI, with your new environment!\n",
    "\n",
    "Next time things get more interesting..."
   ]
  },
  {
   "cell_type": "markdown",
   "metadata": {},
   "source": [
    "<table style=\"margin: 0; text-align: left; width:100%\">\n",
    "    <tr>\n",
    "        <td style=\"width: 150px; height: 150px; vertical-align: middle;\">\n",
    "            <img src=\"../assets/exercise.png\" width=\"150\" height=\"150\" style=\"display: block;\" />\n",
    "        </td>\n",
    "        <td>\n",
    "            <h2 style=\"color:#ff7800;\">Exercise</h2>\n",
    "            <span style=\"color:#ff7800;\">Now try this commercial application:<br/>\n",
    "            First ask the LLM to pick a business area that might be worth exploring for an Agentic AI opportunity.<br/>\n",
    "            Then ask the LLM to present a pain-point in that industry - something challenging that might be ripe for an Agentic solution.<br/>\n",
    "            Finally have 3 third LLM call propose the Agentic AI solution.\n",
    "            </span>\n",
    "        </td>\n",
    "    </tr>\n",
    "</table>"
   ]
  },
  {
   "cell_type": "code",
   "execution_count": 24,
   "metadata": {},
   "outputs": [],
   "source": [
    "# First create the messages:\n",
    "\n",
    "messages = [{\"role\": \"user\", \"content\": \"pick a business area that might be worth exploring for Agentic AI oppurtunity\"}]\n",
    "\n",
    "# Then make the first call:\n",
    "\n",
    "response = openai.chat.completions.create(\n",
    "\n",
    "        model=\"gpt-4.1-mini\",\n",
    "        messages=messages\n",
    "\n",
    ")\n",
    "\n",
    "# Then read the business idea:\n",
    "\n",
    "\n",
    "# And repeat!"
   ]
  },
  {
   "cell_type": "code",
   "execution_count": 25,
   "metadata": {},
   "outputs": [],
   "source": [
    "business_idea = response.choices[0].message.content\n"
   ]
  },
  {
   "cell_type": "code",
   "execution_count": 27,
   "metadata": {},
   "outputs": [
    {
     "data": {
      "text/markdown": [
       "One promising business area for Agentic AI opportunities is **autonomous supply chain management**.\n",
       "\n",
       "### Why Autonomous Supply Chain Management?\n",
       "\n",
       "1. **Complexity and Scale**: Modern supply chains span multiple geographies, suppliers, and transportation methods, making them highly complex and dynamic. Agentic AI can autonomously make decisions to optimize operations in real-time.\n",
       "\n",
       "2. **Decision Autonomy**: Agentic AI systems can monitor inventory levels, predict demand fluctuations, negotiate supplier contracts, and reroute shipments without human intervention, greatly improving efficiency and responsiveness.\n",
       "\n",
       "3. **Cost and Risk Reduction**: Automating routine decisions and proactively identifying disruptions can reduce costs and mitigate risks such as delays, stockouts, or excess inventory.\n",
       "\n",
       "4. **Data Integration**: Supply chains generate vast amounts of data from IoT sensors, ERP systems, and market trends. Agentic AI can synthesize this data to execute end-to-end autonomous management.\n",
       "\n",
       "### Potential Applications\n",
       "\n",
       "- Autonomous inventory replenishment agents.\n",
       "- Automated supplier negotiation and dynamic contract management.\n",
       "- AI-driven logistics route planning and real-time adjustment.\n",
       "- Predictive maintenance coordination for shipment vehicles and warehouse equipment.\n",
       "\n",
       "### Business Impact\n",
       "\n",
       "- Increased operational agility.\n",
       "- Improved service levels and customer satisfaction.\n",
       "- Lower operational costs.\n",
       "- Competitive advantage via real-time adaptive decision-making.\n",
       "\n",
       "---\n",
       "\n",
       "Exploring Agentic AI in this space could create transformative improvements in supply chain resilience and efficiency, a critical need given today's market volatility."
      ],
      "text/plain": [
       "<IPython.core.display.Markdown object>"
      ]
     },
     "metadata": {},
     "output_type": "display_data"
    }
   ],
   "source": [
    "display(Markdown(business_idea))"
   ]
  },
  {
   "cell_type": "markdown",
   "metadata": {},
   "source": []
  },
  {
   "cell_type": "code",
   "execution_count": 32,
   "metadata": {},
   "outputs": [
    {
     "name": "stdout",
     "output_type": "stream",
     "text": [
      "One promising business area for Agentic AI opportunities is **autonomous supply chain management**.\n",
      "\n",
      "### Why Autonomous Supply Chain Management?\n",
      "\n",
      "1. **Complexity and Scale**: Modern supply chains span multiple geographies, suppliers, and transportation methods, making them highly complex and dynamic. Agentic AI can autonomously make decisions to optimize operations in real-time.\n",
      "\n",
      "2. **Decision Autonomy**: Agentic AI systems can monitor inventory levels, predict demand fluctuations, negotiate supplier contracts, and reroute shipments without human intervention, greatly improving efficiency and responsiveness.\n",
      "\n",
      "3. **Cost and Risk Reduction**: Automating routine decisions and proactively identifying disruptions can reduce costs and mitigate risks such as delays, stockouts, or excess inventory.\n",
      "\n",
      "4. **Data Integration**: Supply chains generate vast amounts of data from IoT sensors, ERP systems, and market trends. Agentic AI can synthesize this data to execute end-to-end autonomous management.\n",
      "\n",
      "### Potential Applications\n",
      "\n",
      "- Autonomous inventory replenishment agents.\n",
      "- Automated supplier negotiation and dynamic contract management.\n",
      "- AI-driven logistics route planning and real-time adjustment.\n",
      "- Predictive maintenance coordination for shipment vehicles and warehouse equipment.\n",
      "\n",
      "### Business Impact\n",
      "\n",
      "- Increased operational agility.\n",
      "- Improved service levels and customer satisfaction.\n",
      "- Lower operational costs.\n",
      "- Competitive advantage via real-time adaptive decision-making.\n",
      "\n",
      "---\n",
      "\n",
      "Exploring Agentic AI in this space could create transformative improvements in supply chain resilience and efficiency, a critical need given today's market volatility.\n"
     ]
    }
   ],
   "source": [
    "print (business_idea)"
   ]
  },
  {
   "cell_type": "code",
   "execution_count": 37,
   "metadata": {},
   "outputs": [],
   "source": [
    "pain_points = \"What are some of the painpoints with the industry in the context\""
   ]
  },
  {
   "cell_type": "code",
   "execution_count": 41,
   "metadata": {},
   "outputs": [
    {
     "name": "stdout",
     "output_type": "stream",
     "text": [
      "[{'role': 'user', 'content': \"What are some of the painpoints with the industry in the context One promising business area for Agentic AI opportunities is **autonomous supply chain management**.\\n\\n### Why Autonomous Supply Chain Management?\\n\\n1. **Complexity and Scale**: Modern supply chains span multiple geographies, suppliers, and transportation methods, making them highly complex and dynamic. Agentic AI can autonomously make decisions to optimize operations in real-time.\\n\\n2. **Decision Autonomy**: Agentic AI systems can monitor inventory levels, predict demand fluctuations, negotiate supplier contracts, and reroute shipments without human intervention, greatly improving efficiency and responsiveness.\\n\\n3. **Cost and Risk Reduction**: Automating routine decisions and proactively identifying disruptions can reduce costs and mitigate risks such as delays, stockouts, or excess inventory.\\n\\n4. **Data Integration**: Supply chains generate vast amounts of data from IoT sensors, ERP systems, and market trends. Agentic AI can synthesize this data to execute end-to-end autonomous management.\\n\\n### Potential Applications\\n\\n- Autonomous inventory replenishment agents.\\n- Automated supplier negotiation and dynamic contract management.\\n- AI-driven logistics route planning and real-time adjustment.\\n- Predictive maintenance coordination for shipment vehicles and warehouse equipment.\\n\\n### Business Impact\\n\\n- Increased operational agility.\\n- Improved service levels and customer satisfaction.\\n- Lower operational costs.\\n- Competitive advantage via real-time adaptive decision-making.\\n\\n---\\n\\nExploring Agentic AI in this space could create transformative improvements in supply chain resilience and efficiency, a critical need given today's market volatility.\"}]\n"
     ]
    }
   ],
   "source": [
    "messages = [\n",
    "{\n",
    "    \"role\":\"user\",\n",
    "    \"content\":pain_points+\" \"+business_idea\n",
    "},\n",
    "# {\n",
    "#     \"role\":\"assistant\",\n",
    "#     \"content\":business_idea\n",
    "# }\n",
    "]\n",
    "print (messages)"
   ]
  },
  {
   "cell_type": "code",
   "execution_count": 42,
   "metadata": {},
   "outputs": [],
   "source": [
    "response = openai.chat.completions.create(\n",
    "    model=\"gpt-4\",\n",
    "    messages= messages\n",
    ")"
   ]
  },
  {
   "cell_type": "code",
   "execution_count": 44,
   "metadata": {},
   "outputs": [
    {
     "data": {
      "text/markdown": [
       "### Painpoints in Autonomous Supply Chain Management\n",
       "\n",
       "1. **Data Security and Privacy**: With increasing utilization of AI and data-driven strategies, there's an increased vulnerability to cyber threats and data breaches. Ensuring data security in an autonomous environment creates significant challenges.\n",
       "\n",
       "2. **Implementation Cost**: The initial cost of implementing Agentic AI in supply chain management can be significant. It also requires infrastructure and system changes that can lead to additional costs.\n",
       "\n",
       "3. **Interoperability**: There can be challenges when integrating AI technologies with existing systems. A lack of interoperability might cause disruption and inefficiencies in the supply chain processes.\n",
       "\n",
       "4. **Talent Gap**: Utilizing AI in the supply chain requires a significant amount of expertise. There is a lack of professionals with the necessary combination of supply chain knowledge and AI skills.\n",
       "\n",
       "5. **Regulatory Issues**: Autonomous supply chain management would have to adhere to a host of international trade regulations, especially as they become more dynamic.\n",
       "\n",
       "6. **Technological Maturity**: AI technologies are still evolving. It may be that some promising AI approaches are not yet mature enough for industrial-scale deployment.\n",
       "\n",
       "7. **Overdependence**: With full automation, there is a risk of becoming overly reliant on technology. In the event of a system failure, human operators might not be prepared to step in and handle the situation without the assistance of AI.\n",
       "\n",
       "8. **Ethical Concerns**: The use of AI in decision-making processes can lead to a lack of transparency. There are also concerns about the impact of increased automation on job displacement within the industry. \n",
       "\n",
       "9. **Shortage of Quality Data**: For successful implementation of AI, typical supply chains need a vast amount of accurate, reliable and high-quality data.\n",
       "   \n",
       "10. **Scalability Challenges**: Moving from pilot to scale can be a significant challenge. This can often be due to reluctance or resistance from key stakeholders, conservatism in large corporations, or financial and technological constraints."
      ],
      "text/plain": [
       "<IPython.core.display.Markdown object>"
      ]
     },
     "metadata": {},
     "output_type": "display_data"
    }
   ],
   "source": [
    "display(Markdown(response.choices[0].message.content))\n",
    "pain_points = response"
   ]
  },
  {
   "cell_type": "code",
   "execution_count": null,
   "metadata": {},
   "outputs": [],
   "source": []
  },
  {
   "cell_type": "code",
   "execution_count": 49,
   "metadata": {},
   "outputs": [],
   "source": [
    "messages = [\n",
    "    {\n",
    "        \"role\":\"user\",\n",
    "        \"content\": \"Prodivde a Agentic AI solution for the business area in context\"+\" \"+str(business_idea)+\" \"+str(pain_points)\n",
    "    }\n",
    "]"
   ]
  },
  {
   "cell_type": "code",
   "execution_count": 50,
   "metadata": {},
   "outputs": [],
   "source": [
    "\n",
    "response = openai.chat.completions.create(\n",
    "    model='gpt-4',\n",
    "    messages=messages\n",
    ")"
   ]
  },
  {
   "cell_type": "code",
   "execution_count": 51,
   "metadata": {},
   "outputs": [
    {
     "data": {
      "text/markdown": [
       "### AI-based Autonomous Supply Chain Management Solution\n",
       "\n",
       "Our AI-based solution for autonomous supply chain management leverages advanced machine learning models and techniques to address these challenges and drive business value.\n",
       "\n",
       "**Feature 1: Autonomous Inventory Management**\n",
       "\n",
       "Our solution automates inventory control, reducing the risk of overstocking or understocking. It employs ML algorithms to predict future demand and recommends optimal inventory levels. Alerts are triggered when stock levels approach these thresholds.\n",
       "\n",
       "**Feature 2: Autonomous Transportation Management**\n",
       "\n",
       "The solution uses optimisation algorithms for efficient routing and scheduling of transportation. It also dynamically adjusts plans based on real-time factors such as weather, traffic, and delays, improving delivery efficiency and customer satisfaction.\n",
       "\n",
       "**Feature 3: Intelligent Supplier Negotiation**\n",
       "\n",
       "An AI agent can automate contracts and negotiations with suppliers. It takes into consideration factors such as historical prices, market demand, and supplier reliability to negotiate better terms and conditions.\n",
       "\n",
       "**Feature 4: Predictive Maintenance**\n",
       "\n",
       "Predictive analytics identifies potential equipment failures before they occur, thereby minimising downtime and repair costs. This extends to both transportation vehicles and warehouse machinery.\n",
       "\n",
       "**Feature 5: Data Security and Compliance**\n",
       "\n",
       "Our Agentic AI adheres to the highest data security protocols. It is built to ensure compliance with international trade regulations and data privacy laws. This includes GDPR, CCPA, and others.\n",
       "\n",
       "**Feature 6: Interoperable and Scalable**\n",
       "\n",
       "The solution is crafted to seamlessly integrate with existing systems, ensuring smooth operation. It is scalable, adjusting to changing business needs and volumes with ease.\n",
       "\n",
       "**Feature 7: Training and Support**\n",
       "\n",
       "We provide comprehensive training for staff to work cohesively with the AI solution. Regular updates, maintenance, and 24/7 support ensure smooth operation. \n",
       "\n",
       "**Feature 8: Ethical and Transparent**\n",
       "\n",
       "Our algorithms are designed for transparency and fairness, mitigating ethical concerns. We also have re-skilling initiatives to prepare employees for roles in the new digital landscape.\n",
       "\n",
       "By addressing these challenges, our Agentic AI solution provides a robust and comprehensive approach to autonomous supply chain management, delivering significant improvements in efficiency, resilience, and cost-effectiveness."
      ],
      "text/plain": [
       "<IPython.core.display.Markdown object>"
      ]
     },
     "metadata": {},
     "output_type": "display_data"
    }
   ],
   "source": [
    "display(Markdown(response.choices[0].message.content))"
   ]
  },
  {
   "cell_type": "code",
   "execution_count": null,
   "metadata": {},
   "outputs": [],
   "source": []
  },
  {
   "cell_type": "code",
   "execution_count": null,
   "metadata": {},
   "outputs": [],
   "source": []
  }
 ],
 "metadata": {
  "kernelspec": {
   "display_name": ".venv",
   "language": "python",
   "name": "python3"
  },
  "language_info": {
   "codemirror_mode": {
    "name": "ipython",
    "version": 3
   },
   "file_extension": ".py",
   "mimetype": "text/x-python",
   "name": "python",
   "nbconvert_exporter": "python",
   "pygments_lexer": "ipython3",
   "version": "3.12.10"
  }
 },
 "nbformat": 4,
 "nbformat_minor": 2
}
