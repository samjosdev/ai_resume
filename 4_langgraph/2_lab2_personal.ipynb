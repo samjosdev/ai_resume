{
 "cells": [
  {
   "cell_type": "code",
   "execution_count": 1,
   "metadata": {},
   "outputs": [
    {
     "name": "stderr",
     "output_type": "stream",
     "text": [
      "C:\\Users\\samjo\\AppData\\Local\\Packages\\PythonSoftwareFoundation.Python.3.11_qbz5n2kfra8p0\\LocalCache\\local-packages\\Python311\\site-packages\\tqdm\\auto.py:21: TqdmWarning: IProgress not found. Please update jupyter and ipywidgets. See https://ipywidgets.readthedocs.io/en/stable/user_install.html\n",
      "  from .autonotebook import tqdm as notebook_tqdm\n"
     ]
    }
   ],
   "source": [
    "from typing import Annotated, TypedDict\n",
    "from langgraph.graph import StateGraph, START, END\n",
    "from langgraph.graph.message import add_messages\n",
    "from dotenv import load_dotenv\n",
    "from IPython.display import Image, display\n",
    "import gradio as gr\n",
    "from langgraph.prebuilt import ToolNode, tools_condition\n",
    "import requests\n",
    "import os \n",
    "from langchain_openai import ChatOpenAI\n",
    "from langchain_google_genai import ChatGoogleGenerativeAI\n"
   ]
  },
  {
   "cell_type": "code",
   "execution_count": 2,
   "metadata": {},
   "outputs": [
    {
     "data": {
      "text/plain": [
       "True"
      ]
     },
     "execution_count": 2,
     "metadata": {},
     "output_type": "execute_result"
    }
   ],
   "source": [
    "load_dotenv(override=True)"
   ]
  },
  {
   "cell_type": "code",
   "execution_count": 3,
   "metadata": {},
   "outputs": [
    {
     "data": {
      "text/plain": [
       "'India national cricket team'"
      ]
     },
     "execution_count": 3,
     "metadata": {},
     "output_type": "execute_result"
    }
   ],
   "source": [
    "from langchain_community.utilities import GoogleSerperAPIWrapper\n",
    "\n",
    "serper = GoogleSerperAPIWrapper()\n",
    "serper.run(\"Who won the cricket world cup 2024?\")"
   ]
  },
  {
   "cell_type": "code",
   "execution_count": 4,
   "metadata": {},
   "outputs": [],
   "source": [
    "from langchain.agents import Tool\n",
    "\n",
    "tool_search = Tool(\n",
    "    name=\"search\",\n",
    "    description=\"Search the web for information\",\n",
    "    func=serper.run\n",
    ")"
   ]
  },
  {
   "cell_type": "code",
   "execution_count": 5,
   "metadata": {},
   "outputs": [
    {
     "data": {
      "text/plain": [
       "\"Most Popular Sports Ranked By Total Fans ; 1, Football (Soccer), 3.5 Billion ; 2, Cricket, 2.5 Billion ; 3, Hockey, 2 Billion ; 4, Tennis, 1 Billion ... Swimming and badminton (both of which 31% of global consumers say they watch), table tennis (29%), and gymnastics (25%) also hold strong followings. Rounding ... It makes sense that the first two are football/soccer, and cricket. But after that, there is now way it is hockey! 1. Basketball is also extremely popular in ... Aussie rules, tennis, soccer are more popular. Hockey, swimming and beach sports are also fairly popular is what I am told. Missing: two | Show results with:two. Most Popular Global Sports · 1) Soccer / Association Football: · 2) Cricket: · 3) Field Hockey: · 4) Tennis: · 5) Volleyball: · 6) Table Tennis: · 7) ... * Football (Soccer) is the most popular sport in the world. * The sports of tennis, football (soccer), and cricket all originated in England, ... The World's Most Watched Sports · 1. Soccer · 2. Cricket · 3. Field Hockey · 4. Tennis · 5. Volleyball · 6. Table Tennis · 7. Baseball · 8. Golf. Rugby Union is the most popular in NZ, Rugby League is the most popular in Papua New Guinea and Australia. They are 2 completely separate sports. Missing: two | Show results with:two. When it comes to participating in and watching sports,** football** and cricket are regarded as the two most popular sports in the world. World's Most Popular Sports ; 1, Soccer, 4,0 billions ; 2, Cricket, 2,6 billions ; 3, Basketball, 2,2 billions ; 4, Hockey, 2,0 billions.\""
      ]
     },
     "execution_count": 5,
     "metadata": {},
     "output_type": "execute_result"
    }
   ],
   "source": [
    "tool_search.invoke(\"What are the two most popular sports in the world?\")"
   ]
  },
  {
   "cell_type": "code",
   "execution_count": 6,
   "metadata": {},
   "outputs": [],
   "source": [
    "pushover_token = os.getenv(\"PUSHOVER_TOKEN\")\n",
    "pushover_user = os.getenv(\"PUSHOVER_USER\")\n",
    "pushover_url = f\"https://api.pushover.net/1/messages.json\"\n",
    "\n",
    "def pushover_notification(message: str):\n",
    "    requests.post(pushover_url, data={\"token\": pushover_token, \"user\": pushover_user, \"message\": message})"
   ]
  },
  {
   "cell_type": "code",
   "execution_count": 7,
   "metadata": {},
   "outputs": [],
   "source": [
    "tool_push = Tool(\n",
    "    name=\"push\",\n",
    "    description=\"Send a push notification to the user\",\n",
    "    func=pushover_notification\n",
    ")"
   ]
  },
  {
   "cell_type": "code",
   "execution_count": 13,
   "metadata": {},
   "outputs": [],
   "source": [
    "tool_push.invoke(\"Hello from langgraph world\")"
   ]
  },
  {
   "cell_type": "code",
   "execution_count": 8,
   "metadata": {},
   "outputs": [],
   "source": [
    "tools = [tool_search, tool_push]"
   ]
  },
  {
   "cell_type": "code",
   "execution_count": 17,
   "metadata": {},
   "outputs": [],
   "source": [
    "# llm = ChatOpenAI(model=\"gpt-4o-mini\", temperature=0)\n",
    "llm = ChatGoogleGenerativeAI(model=\"gemini-2.5-pro-preview-06-05\", temperature=0)\n",
    "llm_with_tools = llm.bind_tools(tools)"
   ]
  },
  {
   "cell_type": "code",
   "execution_count": 18,
   "metadata": {},
   "outputs": [],
   "source": [
    "class State(TypedDict):\n",
    "    messages: Annotated[list, add_messages]"
   ]
  },
  {
   "cell_type": "code",
   "execution_count": 19,
   "metadata": {},
   "outputs": [],
   "source": [
    "graph_builder = StateGraph(State)\n",
    "\n",
    "def chatbot(state: State):\n",
    "    return {\"messages\": [llm_with_tools.invoke(state[\"messages\"])]}"
   ]
  },
  {
   "cell_type": "code",
   "execution_count": 20,
   "metadata": {},
   "outputs": [
    {
     "data": {
      "text/plain": [
       "<langgraph.graph.state.StateGraph at 0x1b42e403850>"
      ]
     },
     "execution_count": 20,
     "metadata": {},
     "output_type": "execute_result"
    }
   ],
   "source": [
    "graph_builder.add_node(\"chatbot\", chatbot)\n",
    "graph_builder.add_node(\"tools\",ToolNode(tools=tools))"
   ]
  },
  {
   "cell_type": "code",
   "execution_count": 21,
   "metadata": {},
   "outputs": [
    {
     "data": {
      "text/plain": [
       "<langgraph.graph.state.StateGraph at 0x1b42e403850>"
      ]
     },
     "execution_count": 21,
     "metadata": {},
     "output_type": "execute_result"
    }
   ],
   "source": [
    "graph_builder.add_edge(START, \"chatbot\")\n",
    "graph_builder.add_conditional_edges(\"chatbot\", tools_condition,\"tools\")\n",
    "graph_builder.add_edge(\"tools\", \"chatbot\")\n",
    "graph_builder.add_edge(\"chatbot\", END)"
   ]
  },
  {
   "cell_type": "code",
   "execution_count": 22,
   "metadata": {},
   "outputs": [
    {
     "data": {
      "image/png": "[encoded data removed]",
      "text/plain": [
       "<IPython.core.display.Image object>"
      ]
     },
     "metadata": {},
     "output_type": "display_data"
    }
   ],
   "source": [
    "graph = graph_builder.compile()\n",
    "display(Image(graph.get_graph().draw_mermaid_png()))"
   ]
  },
  {
   "cell_type": "code",
   "execution_count": 23,
   "metadata": {},
   "outputs": [],
   "source": [
    "def chat(user_input: str, history):\n",
    "    result = graph.invoke({\"messages\":[{\"role\":\"user\",\"content\":user_input}]})\n",
    "    return result[\"messages\"][-1].content"
   ]
  },
  {
   "cell_type": "code",
   "execution_count": 24,
   "metadata": {},
   "outputs": [
    {
     "name": "stderr",
     "output_type": "stream",
     "text": [
      "C:\\Users\\samjo\\AppData\\Local\\Packages\\PythonSoftwareFoundation.Python.3.11_qbz5n2kfra8p0\\LocalCache\\local-packages\\Python311\\site-packages\\gradio\\chat_interface.py:339: UserWarning: The 'tuples' format for chatbot messages is deprecated and will be removed in a future version of Gradio. Please set type='messages' instead, which uses openai-style 'role' and 'content' keys.\n",
      "  self.chatbot = Chatbot(\n"
     ]
    },
    {
     "name": "stdout",
     "output_type": "stream",
     "text": [
      "* Running on local URL:  http://127.0.0.1:7860\n",
      "* To create a public link, set `share=True` in `launch()`.\n"
     ]
    },
    {
     "data": {
      "text/html": [
       "<div><iframe src=\"http://127.0.0.1:7860/\" width=\"100%\" height=\"500\" allow=\"autoplay; camera; microphone; clipboard-read; clipboard-write;\" frameborder=\"0\" allowfullscreen></iframe></div>"
      ],
      "text/plain": [
       "<IPython.core.display.HTML object>"
      ]
     },
     "metadata": {},
     "output_type": "display_data"
    },
    {
     "data": {
      "text/plain": []
     },
     "execution_count": 24,
     "metadata": {},
     "output_type": "execute_result"
    }
   ],
   "source": [
    "gr.ChatInterface(chat).launch()"
   ]
  },
  {
   "cell_type": "code",
   "execution_count": 23,
   "metadata": {},
   "outputs": [],
   "source": [
    "from langgraph.checkpoint.memory import MemorySaver\n",
    "memory = MemorySaver()"
   ]
  },
  {
   "cell_type": "code",
   "execution_count": 24,
   "metadata": {},
   "outputs": [
    {
     "data": {
      "image/png": "[encoded data removed]",
      "text/plain": [
       "<IPython.core.display.Image object>"
      ]
     },
     "metadata": {},
     "output_type": "display_data"
    }
   ],
   "source": [
    "class State(TypedDict):\n",
    "    messages: Annotated[list, add_messages]\n",
    "\n",
    "llm = ChatGoogleGenerativeAI(model=\"gemini-2.5-pro-preview-06-05\", temperature=0)\n",
    "llm_with_tools = llm.bind_tools(tools)\n",
    "\n",
    "graph_builder = StateGraph(State)\n",
    "\n",
    "def chatbot(state: State):\n",
    "    print(state)\n",
    "    return {\"messages\": [llm_with_tools.invoke(state[\"messages\"])]}\n",
    "\n",
    "graph_builder.add_node(\"chatbot\", chatbot)\n",
    "graph_builder.add_node(\"tools\", ToolNode(tools=tools))\n",
    "graph_builder.add_conditional_edges(\"chatbot\", tools_condition, \"tools\")\n",
    "graph_builder.add_edge(START, \"chatbot\")\n",
    "graph_builder.add_edge(\"tools\", \"chatbot\")\n",
    "graph_builder.add_edge(\"chatbot\", END)\n",
    "\n",
    "graph = graph_builder.compile(checkpointer=memory)\n",
    "display(Image(graph.get_graph().draw_mermaid_png()))\n",
    "\n",
    "\n",
    "\n",
    "\n"
   ]
  },
  {
   "cell_type": "code",
   "execution_count": 25,
   "metadata": {},
   "outputs": [],
   "source": [
    "config = {\"configurable\":{\"thread_id\": \"1\"}}\n",
    "\n",
    "def chat(user_input: str, history):\n",
    "    result = graph.invoke({\"messages\":[{\"role\":\"user\",\"content\": user_input}]}, config=config)\n",
    "    return result['messages'][-1].content"
   ]
  },
  {
   "cell_type": "code",
   "execution_count": 26,
   "metadata": {},
   "outputs": [
    {
     "name": "stdout",
     "output_type": "stream",
     "text": [
      "* Running on local URL:  http://127.0.0.1:7865\n",
      "* To create a public link, set `share=True` in `launch()`.\n"
     ]
    },
    {
     "data": {
      "text/html": [
       "<div><iframe src=\"http://127.0.0.1:7865/\" width=\"100%\" height=\"500\" allow=\"autoplay; camera; microphone; clipboard-read; clipboard-write;\" frameborder=\"0\" allowfullscreen></iframe></div>"
      ],
      "text/plain": [
       "<IPython.core.display.HTML object>"
      ]
     },
     "metadata": {},
     "output_type": "display_data"
    },
    {
     "data": {
      "text/plain": []
     },
     "execution_count": 26,
     "metadata": {},
     "output_type": "execute_result"
    },
    {
     "name": "stdout",
     "output_type": "stream",
     "text": [
      "{'messages': [HumanMessage(content='hi', additional_kwargs={}, response_metadata={}, id='5e5ac95e-dabc-4867-9bec-979f58da3aac')]}\n",
      "{'messages': [HumanMessage(content='hi', additional_kwargs={}, response_metadata={}, id='5e5ac95e-dabc-4867-9bec-979f58da3aac'), AIMessage(content='Hello! How can I help you today?', additional_kwargs={}, response_metadata={'prompt_feedback': {'block_reason': 0, 'safety_ratings': []}, 'finish_reason': 'STOP', 'safety_ratings': []}, id='run--88378ec6-cdc3-4e8d-a207-80ca52ecfb87-0', usage_metadata={'input_tokens': 82, 'output_tokens': 9, 'total_tokens': 91, 'input_token_details': {'cache_read': 0}}), HumanMessage(content='my name is samson', additional_kwargs={}, response_metadata={}, id='2f7b2c7f-bfa9-4cf1-ab3b-9d79aff43a59')]}\n",
      "{'messages': [HumanMessage(content='hi', additional_kwargs={}, response_metadata={}, id='5e5ac95e-dabc-4867-9bec-979f58da3aac'), AIMessage(content='Hello! How can I help you today?', additional_kwargs={}, response_metadata={'prompt_feedback': {'block_reason': 0, 'safety_ratings': []}, 'finish_reason': 'STOP', 'safety_ratings': []}, id='run--88378ec6-cdc3-4e8d-a207-80ca52ecfb87-0', usage_metadata={'input_tokens': 82, 'output_tokens': 9, 'total_tokens': 91, 'input_token_details': {'cache_read': 0}}), HumanMessage(content='my name is samson', additional_kwargs={}, response_metadata={}, id='2f7b2c7f-bfa9-4cf1-ab3b-9d79aff43a59'), AIMessage(content='Nice to meet you, Samson! How can I help you today?', additional_kwargs={}, response_metadata={'prompt_feedback': {'block_reason': 0, 'safety_ratings': []}, 'finish_reason': 'STOP', 'safety_ratings': []}, id='run--19787811-0ddc-486a-a4b3-ef4a1eeb79b7-0', usage_metadata={'input_tokens': 98, 'output_tokens': 14, 'total_tokens': 112, 'input_token_details': {'cache_read': 0}}), HumanMessage(content='what is my name?', additional_kwargs={}, response_metadata={}, id='856409f1-6a04-4aac-a1e2-4b1d4ba03396')]}\n",
      "{'messages': [HumanMessage(content='hi', additional_kwargs={}, response_metadata={}, id='5e5ac95e-dabc-4867-9bec-979f58da3aac'), AIMessage(content='Hello! How can I help you today?', additional_kwargs={}, response_metadata={'prompt_feedback': {'block_reason': 0, 'safety_ratings': []}, 'finish_reason': 'STOP', 'safety_ratings': []}, id='run--88378ec6-cdc3-4e8d-a207-80ca52ecfb87-0', usage_metadata={'input_tokens': 82, 'output_tokens': 9, 'total_tokens': 91, 'input_token_details': {'cache_read': 0}}), HumanMessage(content='my name is samson', additional_kwargs={}, response_metadata={}, id='2f7b2c7f-bfa9-4cf1-ab3b-9d79aff43a59'), AIMessage(content='Nice to meet you, Samson! How can I help you today?', additional_kwargs={}, response_metadata={'prompt_feedback': {'block_reason': 0, 'safety_ratings': []}, 'finish_reason': 'STOP', 'safety_ratings': []}, id='run--19787811-0ddc-486a-a4b3-ef4a1eeb79b7-0', usage_metadata={'input_tokens': 98, 'output_tokens': 14, 'total_tokens': 112, 'input_token_details': {'cache_read': 0}}), HumanMessage(content='what is my name?', additional_kwargs={}, response_metadata={}, id='856409f1-6a04-4aac-a1e2-4b1d4ba03396'), AIMessage(content='Your name is Samson.', additional_kwargs={}, response_metadata={'prompt_feedback': {'block_reason': 0, 'safety_ratings': []}, 'finish_reason': 'STOP', 'safety_ratings': []}, id='run--74312333-bca7-4c44-8e97-c32c4c5edd4e-0', usage_metadata={'input_tokens': 119, 'output_tokens': 5, 'total_tokens': 214, 'input_token_details': {'cache_read': 0}}), HumanMessage(content='why is my name samson', additional_kwargs={}, response_metadata={}, id='3f1eab49-14b0-4da1-905e-2bfd06f12670')]}\n",
      "{'messages': [HumanMessage(content='hi', additional_kwargs={}, response_metadata={}, id='5e5ac95e-dabc-4867-9bec-979f58da3aac'), AIMessage(content='Hello! How can I help you today?', additional_kwargs={}, response_metadata={'prompt_feedback': {'block_reason': 0, 'safety_ratings': []}, 'finish_reason': 'STOP', 'safety_ratings': []}, id='run--88378ec6-cdc3-4e8d-a207-80ca52ecfb87-0', usage_metadata={'input_tokens': 82, 'output_tokens': 9, 'total_tokens': 91, 'input_token_details': {'cache_read': 0}}), HumanMessage(content='my name is samson', additional_kwargs={}, response_metadata={}, id='2f7b2c7f-bfa9-4cf1-ab3b-9d79aff43a59'), AIMessage(content='Nice to meet you, Samson! How can I help you today?', additional_kwargs={}, response_metadata={'prompt_feedback': {'block_reason': 0, 'safety_ratings': []}, 'finish_reason': 'STOP', 'safety_ratings': []}, id='run--19787811-0ddc-486a-a4b3-ef4a1eeb79b7-0', usage_metadata={'input_tokens': 98, 'output_tokens': 14, 'total_tokens': 112, 'input_token_details': {'cache_read': 0}}), HumanMessage(content='what is my name?', additional_kwargs={}, response_metadata={}, id='856409f1-6a04-4aac-a1e2-4b1d4ba03396'), AIMessage(content='Your name is Samson.', additional_kwargs={}, response_metadata={'prompt_feedback': {'block_reason': 0, 'safety_ratings': []}, 'finish_reason': 'STOP', 'safety_ratings': []}, id='run--74312333-bca7-4c44-8e97-c32c4c5edd4e-0', usage_metadata={'input_tokens': 119, 'output_tokens': 5, 'total_tokens': 214, 'input_token_details': {'cache_read': 0}}), HumanMessage(content='why is my name samson', additional_kwargs={}, response_metadata={}, id='3f1eab49-14b0-4da1-905e-2bfd06f12670'), AIMessage(content='', additional_kwargs={'function_call': {'name': 'search', 'arguments': '{\"__arg1\": \"origin of the name Samson\"}'}}, response_metadata={'prompt_feedback': {'block_reason': 0, 'safety_ratings': []}, 'finish_reason': 'STOP', 'safety_ratings': []}, id='run--8b56e359-d41d-4e33-a2b9-9c35f58d78b7-0', tool_calls=[{'name': 'search', 'args': {'__arg1': 'origin of the name Samson'}, 'id': '615f6d85-c937-4595-b1a1-39cdb0fcdf42', 'type': 'tool_call'}], usage_metadata={'input_tokens': 132, 'output_tokens': 18, 'total_tokens': 350, 'input_token_details': {'cache_read': 0}}), ToolMessage(content='Samson is a boy\\'s name that derives from the Hebrew word shemesh, meaning \"sun” or “sun child.” A strong masculine name with important religious connotations. The name \"Samson\" is derived from the Hebrew word šemeš, which means \"sun\", so that Samson bore the name of God, who is called \"a sun and shield\" in Psalms 84: ... The name Samson is the word shemesh post-fixed with the waw-nun extension. This extension personifies or localizes the root: the name Samson literally means ... from the Biblical personal name Samson (Hebrew Shimshon, a diminutive of shemesh \\'sun\\'). Among Christians it was sometimes chosen as a personal name or ... From the Hebrew name שִׁמְשׁוֹן (Shimshon), derived from שֶׁמֶשׁ (shemesh) meaning \"sun\". Samson was an Old Testament hero granted exceptional strength by God. The name Samson is a boy\\'s name of Hebrew origin meaning \"sun\". With the prevailing popularity of Samuel, some parents are considering this more (literally) ... The name Samson has its origins in Hebrew and carries significant meanings associated with the sun and service. Originating from Hebrew Shimshon, meaning \"sun,\" Samson is a Jewish strong-man name; it later became a term for strength and a luggage brand. 1. Name: Derived probably from shemesh, \"sun\" with the diminutive ending -on, meaning \"little sun\" or \"sunny,\" or perhaps \"sun-man\"; Sampson; Latin and English, ... Missing: origin | Show results with:origin. Samson Surname Meaning\\u200b\\u200b English, Welsh, French, Breton, German, Dutch, Jewish, Filipino, African (mainly Nigeria, Tanzania, and Ethiopia), and West Indian ( ...', name='search', id='187d74f8-0807-4a33-b6a1-99f84100105b', tool_call_id='615f6d85-c937-4595-b1a1-39cdb0fcdf42')]}\n",
      "{'messages': [HumanMessage(content='hi', additional_kwargs={}, response_metadata={}, id='5e5ac95e-dabc-4867-9bec-979f58da3aac'), AIMessage(content='Hello! How can I help you today?', additional_kwargs={}, response_metadata={'prompt_feedback': {'block_reason': 0, 'safety_ratings': []}, 'finish_reason': 'STOP', 'safety_ratings': []}, id='run--88378ec6-cdc3-4e8d-a207-80ca52ecfb87-0', usage_metadata={'input_tokens': 82, 'output_tokens': 9, 'total_tokens': 91, 'input_token_details': {'cache_read': 0}}), HumanMessage(content='my name is samson', additional_kwargs={}, response_metadata={}, id='2f7b2c7f-bfa9-4cf1-ab3b-9d79aff43a59'), AIMessage(content='Nice to meet you, Samson! How can I help you today?', additional_kwargs={}, response_metadata={'prompt_feedback': {'block_reason': 0, 'safety_ratings': []}, 'finish_reason': 'STOP', 'safety_ratings': []}, id='run--19787811-0ddc-486a-a4b3-ef4a1eeb79b7-0', usage_metadata={'input_tokens': 98, 'output_tokens': 14, 'total_tokens': 112, 'input_token_details': {'cache_read': 0}}), HumanMessage(content='what is my name?', additional_kwargs={}, response_metadata={}, id='856409f1-6a04-4aac-a1e2-4b1d4ba03396'), AIMessage(content='Your name is Samson.', additional_kwargs={}, response_metadata={'prompt_feedback': {'block_reason': 0, 'safety_ratings': []}, 'finish_reason': 'STOP', 'safety_ratings': []}, id='run--74312333-bca7-4c44-8e97-c32c4c5edd4e-0', usage_metadata={'input_tokens': 119, 'output_tokens': 5, 'total_tokens': 214, 'input_token_details': {'cache_read': 0}}), HumanMessage(content='why is my name samson', additional_kwargs={}, response_metadata={}, id='3f1eab49-14b0-4da1-905e-2bfd06f12670'), AIMessage(content='', additional_kwargs={'function_call': {'name': 'search', 'arguments': '{\"__arg1\": \"origin of the name Samson\"}'}}, response_metadata={'prompt_feedback': {'block_reason': 0, 'safety_ratings': []}, 'finish_reason': 'STOP', 'safety_ratings': []}, id='run--8b56e359-d41d-4e33-a2b9-9c35f58d78b7-0', tool_calls=[{'name': 'search', 'args': {'__arg1': 'origin of the name Samson'}, 'id': '615f6d85-c937-4595-b1a1-39cdb0fcdf42', 'type': 'tool_call'}], usage_metadata={'input_tokens': 132, 'output_tokens': 18, 'total_tokens': 350, 'input_token_details': {'cache_read': 0}}), ToolMessage(content='Samson is a boy\\'s name that derives from the Hebrew word shemesh, meaning \"sun” or “sun child.” A strong masculine name with important religious connotations. The name \"Samson\" is derived from the Hebrew word šemeš, which means \"sun\", so that Samson bore the name of God, who is called \"a sun and shield\" in Psalms 84: ... The name Samson is the word shemesh post-fixed with the waw-nun extension. This extension personifies or localizes the root: the name Samson literally means ... from the Biblical personal name Samson (Hebrew Shimshon, a diminutive of shemesh \\'sun\\'). Among Christians it was sometimes chosen as a personal name or ... From the Hebrew name שִׁמְשׁוֹן (Shimshon), derived from שֶׁמֶשׁ (shemesh) meaning \"sun\". Samson was an Old Testament hero granted exceptional strength by God. The name Samson is a boy\\'s name of Hebrew origin meaning \"sun\". With the prevailing popularity of Samuel, some parents are considering this more (literally) ... The name Samson has its origins in Hebrew and carries significant meanings associated with the sun and service. Originating from Hebrew Shimshon, meaning \"sun,\" Samson is a Jewish strong-man name; it later became a term for strength and a luggage brand. 1. Name: Derived probably from shemesh, \"sun\" with the diminutive ending -on, meaning \"little sun\" or \"sunny,\" or perhaps \"sun-man\"; Sampson; Latin and English, ... Missing: origin | Show results with:origin. Samson Surname Meaning\\u200b\\u200b English, Welsh, French, Breton, German, Dutch, Jewish, Filipino, African (mainly Nigeria, Tanzania, and Ethiopia), and West Indian ( ...', name='search', id='187d74f8-0807-4a33-b6a1-99f84100105b', tool_call_id='615f6d85-c937-4595-b1a1-39cdb0fcdf42'), AIMessage(content='The name Samson is of Hebrew origin. It\\'s derived from the Hebrew word \"shemesh,\" which means \"sun.\" So, your name can be interpreted as \"sun child\" or \"little sun.\"\\n\\nThe most famous Samson is a hero from the Old Testament who was granted immense strength by God.', additional_kwargs={}, response_metadata={'prompt_feedback': {'block_reason': 0, 'safety_ratings': []}, 'finish_reason': 'STOP', 'safety_ratings': []}, id='run--9dd82475-9fde-46b5-a1a0-2d17b8a03666-0', usage_metadata={'input_tokens': 531, 'output_tokens': 62, 'total_tokens': 1033, 'input_token_details': {'cache_read': 0}}), HumanMessage(content='because my mom and dad liked that name', additional_kwargs={}, response_metadata={}, id='09e326c6-e1d5-4f45-835f-4d2ee68ff34b')]}\n"
     ]
    }
   ],
   "source": [
    "gr.ChatInterface(chat, type=\"messages\").launch()"
   ]
  },
  {
   "cell_type": "code",
   "execution_count": null,
   "metadata": {},
   "outputs": [],
   "source": []
  },
  {
   "cell_type": "code",
   "execution_count": null,
   "metadata": {},
   "outputs": [],
   "source": []
  },
  {
   "cell_type": "code",
   "execution_count": null,
   "metadata": {},
   "outputs": [],
   "source": []
  },
  {
   "cell_type": "code",
   "execution_count": null,
   "metadata": {},
   "outputs": [],
   "source": []
  },
  {
   "cell_type": "code",
   "execution_count": null,
   "metadata": {},
   "outputs": [],
   "source": []
  },
  {
   "cell_type": "code",
   "execution_count": null,
   "metadata": {},
   "outputs": [],
   "source": []
  },
  {
   "cell_type": "markdown",
   "metadata": {},
   "source": []
  }
 ],
 "metadata": {
  "kernelspec": {
   "display_name": "Python 3",
   "language": "python",
   "name": "python3"
  },
  "language_info": {
   "codemirror_mode": {
    "name": "ipython",
    "version": 3
   },
   "file_extension": ".py",
   "mimetype": "text/x-python",
   "name": "python",
   "nbconvert_exporter": "python",
   "pygments_lexer": "ipython3",
   "version": "3.11.9"
  }
 },
 "nbformat": 4,
 "nbformat_minor": 2
}
