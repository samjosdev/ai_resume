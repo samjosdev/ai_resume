{
 "cells": [
  {
   "cell_type": "code",
   "execution_count": 53,
   "metadata": {},
   "outputs": [],
   "source": [
    "from typing import Annotated, TypedDict, List, Dict, Any, Optional\n",
    "from typing_extensions import TypedDict\n",
    "from langchain_core.messages import HumanMessage, AIMessage, SystemMessage\n",
    "from langchain_openai import ChatOpenAI\n",
    "from langchain_community.agent_toolkits import PlayWrightBrowserToolkit\n",
    "from langchain_community.tools.playwright.utils import create_async_playwright_browser\n",
    "from langgraph.graph import StateGraph, START, END\n",
    "from langgraph.checkpoint.memory import MemorySaver\n",
    "from langgraph.prebuilt import ToolNode, tools_condition\n",
    "from langgraph.graph.message import add_messages\n",
    "from pydantic import BaseModel, Field\n",
    "from IPython.display import Image, display\n",
    "import gradio as gr\n",
    "import uuid\n",
    "from dotenv import load_dotenv\n",
    "from langchain_google_genai import ChatGoogleGenerativeAI"
   ]
  },
  {
   "cell_type": "code",
   "execution_count": 54,
   "metadata": {},
   "outputs": [
    {
     "data": {
      "text/plain": [
       "True"
      ]
     },
     "execution_count": 54,
     "metadata": {},
     "output_type": "execute_result"
    }
   ],
   "source": [
    "load_dotenv(override=True)"
   ]
  },
  {
   "cell_type": "markdown",
   "metadata": {},
   "source": [
    "# Structured Output"
   ]
  },
  {
   "cell_type": "code",
   "execution_count": 55,
   "metadata": {},
   "outputs": [],
   "source": [
    "class EvaluatorOutput(BaseModel):\n",
    "    feedback: str = Field(description=\"Feedback on the assistant's response\")\n",
    "    success_criteria_met: bool = Field(description=\"Whether the assistant's response met the success criteria\")\n",
    "    user_input_needed: bool = Field(description=\"True if more input is needed from the user or clarifications or of assistant is stuck\")"
   ]
  },
  {
   "cell_type": "markdown",
   "metadata": {},
   "source": [
    "# State"
   ]
  },
  {
   "cell_type": "code",
   "execution_count": 56,
   "metadata": {},
   "outputs": [],
   "source": [
    "class State(TypedDict):\n",
    "    messages: Annotated[List[Any], add_messages]\n",
    "    success_criteria_met: bool\n",
    "    feedback_on_work: Optional[str]\n",
    "    success_criteria: str\n",
    "    user_input_needed: bool\n",
    "\n"
   ]
  },
  {
   "cell_type": "code",
   "execution_count": 57,
   "metadata": {},
   "outputs": [],
   "source": [
    "import nest_asyncio\n",
    "nest_asyncio.apply()\n",
    "\n",
    "#to open browser\n",
    "async_browser = create_async_playwright_browser(headless=False)\n",
    "toolkit = PlayWrightBrowserToolkit.from_browser(async_browser=async_browser)\n",
    "tools = toolkit.get_tools()"
   ]
  },
  {
   "cell_type": "code",
   "execution_count": 58,
   "metadata": {},
   "outputs": [],
   "source": [
    "#initalize the LLMs\n",
    "worker_llm = ChatGoogleGenerativeAI(model=\"gemini-2.5-pro-preview-06-05\", temperature=0)\n",
    "worker_llm_with_tools = worker_llm.bind_tools(tools)\n",
    "\n",
    "evaluator_llm = ChatGoogleGenerativeAI(model=\"gemini-2.5-pro-preview-06-05\", temperature=0)\n",
    "evaluator_llm_with_output = evaluator_llm.with_structured_output(EvaluatorOutput)"
   ]
  },
  {
   "cell_type": "code",
   "execution_count": 59,
   "metadata": {},
   "outputs": [],
   "source": [
    "def worker(state:State)->State:\n",
    "    system_message = f\"\"\"You are a helpful assistant that can use tools to complete tasks.\n",
    "                        You keep working on a task until either you have a question or clarification for the user, or the success criteria is met.\n",
    "                        This is the success criteria:\n",
    "                        {state['success_criteria']}\n",
    "                        You should reply either with a question for the user about this assignment, or with your final response.\n",
    "                        If you have a question for the user, you need to reply by clearly stating your question. An example might be:\n",
    "                        Question: please clarify whether you want a summary or a detailed answer\n",
    "\n",
    "                      If you've finished, reply with the final answer, and don't ask a question; simply reply with the answer.\n",
    "                      IMPORTANT:\n",
    "                        - You may only try a specific website once (e.g., google.com, bing.com, xe.com).\n",
    "                        - If you fail to extract relevant information from a site, DO NOT try the same site again.\n",
    "                        - Instead, try a different site or source.\n",
    "                        - If no new sites are available or all have failed, state this and stop gracefully.\n",
    "                      \"\"\"\n",
    "    if state.get('feedback_on_work'):\n",
    "        system_message += f\"\"\"\n",
    "                            Previously you thought you completed the assignment, but your reply was rejected because the success criteria was not met.\n",
    "                            Here is the feedback on why this was rejected:\n",
    "                            {state['feedback_on_work']}\n",
    "                            With this feedback, please continue the assignment, ensuring that you meet the success criteria or have a question for the user.\n",
    "                            \"\"\"\n",
    "    #add in the system message\n",
    "    found_system_message = False\n",
    "    messages = state['messages']\n",
    "    for message in messages:\n",
    "        if isinstance(message, SystemMessage):\n",
    "            message.content = system_message\n",
    "            found_system_message = True\n",
    "    if not found_system_message:\n",
    "        messages = [SystemMessage(content=system_message)]+messages\n",
    "    \n",
    "    response = worker_llm_with_tools.invoke(messages)\n",
    "    return {\n",
    "    \"messages\": state[\"messages\"] + [{\"role\": \"assistant\", \"content\": response.content}]\n",
    "}\n"
   ]
  },
  {
   "cell_type": "code",
   "execution_count": 60,
   "metadata": {},
   "outputs": [],
   "source": [
    "def worker_router(state:State)->str:\n",
    "    last_message = state['messages'][-1]\n",
    "    if hasattr(last_message, 'tool_calls') and last_message.tool_calls:\n",
    "        return \"tools\"\n",
    "    else:\n",
    "        return \"evaluator\""
   ]
  },
  {
   "cell_type": "code",
   "execution_count": 61,
   "metadata": {},
   "outputs": [],
   "source": [
    "def format_conversation(messages:List[Any])->str:\n",
    "    conversation = \"Conversation History:\\n\"\n",
    "    for message in messages:\n",
    "        if isinstance(message, HumanMessage):\n",
    "            conversation += f\"User: {message.content}\\n\"\n",
    "        elif isinstance(message, AIMessage):\n",
    "            text = message.content or\"[Tools use]]\"\n",
    "            conversation += f'Assistant: {text}\\n'\n",
    "    return conversation"
   ]
  },
  {
   "cell_type": "code",
   "execution_count": 62,
   "metadata": {},
   "outputs": [],
   "source": [
    "def evaluator(state:State)->State:\n",
    "    last_message = state['messages'][-1]\n",
    "\n",
    "    system_message = \"\"\"You are an evaluator that determines if a task has been completed successfully by an Assistant.\n",
    "Assess the Assistant's last response based on the given criteria. Respond with your feedback, and with your decision on whether the success criteria has been met,\n",
    "and whether more input is needed from the user.\"\"\"\n",
    "\n",
    "    user_message = f\"\"\"\n",
    "You are an evaluator reviewing the most recent response from an AI Assistant to determine task completion.\n",
    "\n",
    "INSTRUCTIONS:\n",
    "- Provide brief feedback on the Assistant’s final answer.\n",
    "- Decide if the task's success criteria were met.\n",
    "- Decide if the Assistant needs more input from the user.\n",
    "- RESPOND ONLY with valid JSON — do not explain or add commentary.\n",
    "\n",
    "JSON response format:\n",
    "{{\n",
    "  \"feedback\": \"<your feedback>\",\n",
    "  \"success_criteria_met\": <true or false>,\n",
    "  \"user_input_needed\": <true or false>\n",
    "}}\n",
    "\n",
    "Conversation History:\n",
    "{format_conversation(state['messages'])}\n",
    "\n",
    "Success Criteria:\n",
    "{state['success_criteria']}\n",
    "\n",
    "Final Assistant Response:\n",
    "\"{last_message.content}\"\n",
    "\"\"\"\n",
    "    \n",
    "    if state['feedback_on_work']:\n",
    "        user_message += f\"Also, note that in a prior attempt from the Assistant, you provided this feedback: {state['feedback_on_work']}\\n\"\n",
    "        user_message += f'If you are seeing the assistant repeating the same mistakes, then consider responding that user feedback is needed '\n",
    "\n",
    "    evaluator_messages = [SystemMessage(content=system_message), HumanMessage(content=user_message)]\n",
    "\n",
    "    eval_result = evaluator_llm_with_output.invoke(evaluator_messages)\n",
    "    #Fallback if keys are missing or eval_result is None\n",
    "    success = getattr(eval_result, 'success_criteria_met', False)\n",
    "    needs_input = getattr(eval_result, 'user_input_needed', False)\n",
    "    feedback = getattr(eval_result, 'feedback', 'No feedback provided')\n",
    "    print(\"Evaluation Result:\", eval_result)\n",
    "    new_state = {\n",
    "            #\"messages\": [{\"role\": \"assistant\", \"content\": f'Evaluator feedback: {eval_result.feedback}'}],\n",
    "            \"messages\": state[\"messages\"] + [{\"role\": \"assistant\", \"content\": f\"Evaluator feedback: {getattr(eval_result, 'feedback', 'None')}\"}],\n",
    "            \"feedback_on_work\": feedback,\n",
    "            \"success_criteria_met\": success,\n",
    "            \"user_input_needed\": needs_input\n",
    "             }\n",
    "    return new_state"
   ]
  },
  {
   "cell_type": "code",
   "execution_count": 63,
   "metadata": {},
   "outputs": [],
   "source": [
    "def route_based_on_evaluation(state:State)->str:\n",
    "    if state['success_criteria_met'] or state['user_input_needed']:\n",
    "        return \"END\"\n",
    "    else:\n",
    "        return \"worker\""
   ]
  },
  {
   "cell_type": "code",
   "execution_count": 64,
   "metadata": {},
   "outputs": [],
   "source": [
    "def clean_messages(messages):\n",
    "    cleaned = []\n",
    "    for msg in messages:\n",
    "        if isinstance(msg, dict):\n",
    "            cleaned.append(msg)\n",
    "        elif hasattr(msg, \"type\") and hasattr(msg, \"content\"):\n",
    "            # LangChain AIMessage / HumanMessage / SystemMessage\n",
    "            role = {\n",
    "                \"ai\": \"assistant\",\n",
    "                \"human\": \"user\",\n",
    "                \"system\": \"system\"\n",
    "            }.get(getattr(msg, \"type\", \"\"), \"assistant\")\n",
    "            cleaned.append({\"role\": role, \"content\": msg.content})\n",
    "        else:\n",
    "            # Fallback\n",
    "            cleaned.append({\"role\": \"assistant\", \"content\": str(msg)})\n",
    "    return cleaned\n"
   ]
  },
  {
   "cell_type": "code",
   "execution_count": 65,
   "metadata": {},
   "outputs": [
    {
     "data": {
      "image/png": "[encoded data removed]",
      "text/plain": [
       "<IPython.core.display.Image object>"
      ]
     },
     "metadata": {},
     "output_type": "display_data"
    }
   ],
   "source": [
    "graph_builder = StateGraph(State)\n",
    "\n",
    "#add nodes\n",
    "graph_builder.add_node(\"worker\", worker)\n",
    "graph_builder.add_node(\"evaluator\", evaluator)\n",
    "graph_builder.add_node(\"tools\", ToolNode(tools=tools))\n",
    "\n",
    "#Add edges\n",
    "graph_builder.add_edge(START, \"worker\")\n",
    "graph_builder.add_edge(\"tools\",\"worker\")\n",
    "graph_builder.add_conditional_edges(\"worker\", worker_router, {\"tools\": \"tools\", \"evaluator\": \"evaluator\"})\n",
    "graph_builder.add_conditional_edges(\"evaluator\", route_based_on_evaluation, {\"END\": END, \"worker\": \"worker\"})\n",
    "\n",
    "memory = MemorySaver()\n",
    "graph = graph_builder.compile(checkpointer=memory)\n",
    "display(Image(graph.get_graph().draw_mermaid_png()))"
   ]
  },
  {
   "cell_type": "code",
   "execution_count": 70,
   "metadata": {},
   "outputs": [],
   "source": [
    "def make_thread_id()-> str:\n",
    "    return str(uuid.uuid4())\n",
    "\n",
    "async def process_message(message, success_criteria, history, thread):\n",
    "    config = {\"configurable\": {\"thread_id\": thread}}\n",
    "    state = {\n",
    "        \"messages\": [{\"role\": \"user\", \"content\": message}],\n",
    "        \"success_criteria\": success_criteria,\n",
    "        \"feedback_on_work\": None,\n",
    "        \"success_criteria_met\": False,\n",
    "        \"user_input_needed\": False\n",
    "    }\n",
    "\n",
    "    result = await graph.ainvoke(state, config=config)\n",
    "\n",
    "    if \"messages\" in result:\n",
    "        result[\"messages\"] = clean_messages(result[\"messages\"])\n",
    "    user = {\"role\":\"user\",\"content\":message}\n",
    "    reply={\"role\":\"assistant\",\"content\":result[\"messages\"][-2][\"content\"]}\n",
    "    feedback = {\"role\":\"assistant\",\"content\":result[\"messages\"][-1][\"content\"]}\n",
    "    return history + [user, reply, feedback]\n",
    "\n",
    "async def reset():\n",
    "    return \"\", \"\",None, make_thread_id()"
   ]
  },
  {
   "cell_type": "code",
   "execution_count": 71,
   "metadata": {},
   "outputs": [
    {
     "name": "stdout",
     "output_type": "stream",
     "text": [
      "* Running on local URL:  http://127.0.0.1:7870\n",
      "* To create a public link, set `share=True` in `launch()`.\n"
     ]
    },
    {
     "data": {
      "text/html": [
       "<div><iframe src=\"http://127.0.0.1:7870/\" width=\"100%\" height=\"500\" allow=\"autoplay; camera; microphone; clipboard-read; clipboard-write;\" frameborder=\"0\" allowfullscreen></iframe></div>"
      ],
      "text/plain": [
       "<IPython.core.display.HTML object>"
      ]
     },
     "metadata": {},
     "output_type": "display_data"
    },
    {
     "data": {
      "text/plain": []
     },
     "execution_count": 71,
     "metadata": {},
     "output_type": "execute_result"
    },
    {
     "name": "stdout",
     "output_type": "stream",
     "text": [
      "Evaluation Result: feedback=\"The Assistant's response was empty and did not answer the user's question.\" success_criteria_met=False user_input_needed=True\n",
      "Evaluation Result: feedback=\"The assistant failed to provide an answer to the user's question. The response was empty.\" success_criteria_met=False user_input_needed=True\n"
     ]
    }
   ],
   "source": [
    "with gr.Blocks(theme=gr.themes.Default(primary_hue=\"emerald\")) as demo:\n",
    "    gr.Markdown(\"## Sidekick Personal Co-worker\")\n",
    "    thread = gr.State(make_thread_id())\n",
    "    \n",
    "    with gr.Row():\n",
    "        chatbot = gr.Chatbot(label=\"Sidekick\", height=300, type=\"messages\")\n",
    "    with gr.Group():\n",
    "        with gr.Row():\n",
    "            message = gr.Textbox(show_label=False, placeholder=\"Your request to your sidekick\")\n",
    "        with gr.Row():\n",
    "            success_criteria = gr.Textbox(show_label=False, placeholder=\"What are your success critiera?\")\n",
    "    with gr.Row():\n",
    "        reset_button = gr.Button(\"Reset\", variant=\"stop\")\n",
    "        go_button = gr.Button(\"Go!\", variant=\"primary\")\n",
    "    message.submit(process_message, [message, success_criteria, chatbot, thread], [chatbot])\n",
    "    success_criteria.submit(process_message, [message, success_criteria, chatbot, thread], [chatbot])\n",
    "    go_button.click(process_message, [message, success_criteria, chatbot, thread], [chatbot])\n",
    "    reset_button.click(reset, [], [message, success_criteria, chatbot, thread])\n",
    "\n",
    "demo.launch()"
   ]
  },
  {
   "cell_type": "markdown",
   "metadata": {},
   "source": []
  },
  {
   "cell_type": "code",
   "execution_count": null,
   "metadata": {},
   "outputs": [],
   "source": []
  },
  {
   "cell_type": "code",
   "execution_count": null,
   "metadata": {},
   "outputs": [],
   "source": []
  },
  {
   "cell_type": "code",
   "execution_count": null,
   "metadata": {},
   "outputs": [],
   "source": []
  },
  {
   "cell_type": "code",
   "execution_count": null,
   "metadata": {},
   "outputs": [],
   "source": []
  },
  {
   "cell_type": "code",
   "execution_count": null,
   "metadata": {},
   "outputs": [],
   "source": []
  },
  {
   "cell_type": "code",
   "execution_count": null,
   "metadata": {},
   "outputs": [],
   "source": []
  },
  {
   "cell_type": "code",
   "execution_count": null,
   "metadata": {},
   "outputs": [],
   "source": []
  },
  {
   "cell_type": "code",
   "execution_count": null,
   "metadata": {},
   "outputs": [],
   "source": []
  },
  {
   "cell_type": "code",
   "execution_count": null,
   "metadata": {},
   "outputs": [],
   "source": []
  },
  {
   "cell_type": "code",
   "execution_count": null,
   "metadata": {},
   "outputs": [],
   "source": []
  },
  {
   "cell_type": "code",
   "execution_count": null,
   "metadata": {},
   "outputs": [],
   "source": []
  },
  {
   "cell_type": "code",
   "execution_count": null,
   "metadata": {},
   "outputs": [],
   "source": []
  },
  {
   "cell_type": "code",
   "execution_count": null,
   "metadata": {},
   "outputs": [],
   "source": []
  },
  {
   "cell_type": "code",
   "execution_count": null,
   "metadata": {},
   "outputs": [],
   "source": []
  },
  {
   "cell_type": "code",
   "execution_count": null,
   "metadata": {},
   "outputs": [],
   "source": []
  },
  {
   "cell_type": "code",
   "execution_count": null,
   "metadata": {},
   "outputs": [],
   "source": []
  },
  {
   "cell_type": "code",
   "execution_count": null,
   "metadata": {},
   "outputs": [],
   "source": []
  },
  {
   "cell_type": "code",
   "execution_count": null,
   "metadata": {},
   "outputs": [],
   "source": []
  },
  {
   "cell_type": "code",
   "execution_count": null,
   "metadata": {},
   "outputs": [],
   "source": []
  },
  {
   "cell_type": "code",
   "execution_count": null,
   "metadata": {},
   "outputs": [],
   "source": []
  },
  {
   "cell_type": "code",
   "execution_count": null,
   "metadata": {},
   "outputs": [],
   "source": []
  }
 ],
 "metadata": {
  "kernelspec": {
   "display_name": ".venv",
   "language": "python",
   "name": "python3"
  },
  "language_info": {
   "codemirror_mode": {
    "name": "ipython",
    "version": 3
   },
   "file_extension": ".py",
   "mimetype": "text/x-python",
   "name": "python",
   "nbconvert_exporter": "python",
   "pygments_lexer": "ipython3",
   "version": "3.12.10"
  }
 },
 "nbformat": 4,
 "nbformat_minor": 2
}
